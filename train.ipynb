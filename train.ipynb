{
 "cells": [
  {
   "cell_type": "code",
   "execution_count": 1,
   "metadata": {},
   "outputs": [],
   "source": [
    "import pandas as pd\n",
    "import numpy as np\n",
    "from sklearn.linear_model import LinearRegression\n",
    "from utils import *\n",
    "import mlflow\n",
    "pd.options.plotting.backend = \"plotly\""
   ]
  },
  {
   "cell_type": "markdown",
   "metadata": {},
   "source": [
    "# Data"
   ]
  },
  {
   "cell_type": "code",
   "execution_count": 2,
   "metadata": {},
   "outputs": [],
   "source": [
    "df_1 = pd.read_csv(\"/Users/tsfelg/repos/mlops_zoomcamp_project/2020_PT_Region_Mobility_Report.csv\")\n",
    "df_2 = pd.read_csv(\"/Users/tsfelg/repos/mlops_zoomcamp_project/2021_PT_Region_Mobility_Report.csv\")\n",
    "df_3 = pd.read_csv(\"/Users/tsfelg/repos/mlops_zoomcamp_project/2022_PT_Region_Mobility_Report.csv\")\n",
    "df = pd.concat([df_1,df_2,df_3])"
   ]
  },
  {
   "cell_type": "code",
   "execution_count": 3,
   "metadata": {},
   "outputs": [],
   "source": [
    "df = clean_data(df)\n",
    "df = feature_extraction(df)\n",
    "df = df.dropna()"
   ]
  },
  {
   "cell_type": "code",
   "execution_count": 4,
   "metadata": {},
   "outputs": [],
   "source": [
    "df_train = df.loc[\"2020\":\"2022-07\"]\n",
    "df_test = df.loc[\"2022-08\"]\n",
    "\n",
    "X_train = df_train.drop(columns=[\"y\"])\n",
    "X_test = df_test.drop(columns=[\"y\"])\n",
    "\n",
    "y_train = df_train.y\n",
    "y_test = df_test.y"
   ]
  },
  {
   "cell_type": "markdown",
   "metadata": {},
   "source": [
    "# Training"
   ]
  },
  {
   "cell_type": "code",
   "execution_count": 5,
   "metadata": {},
   "outputs": [],
   "source": [
    "model = LinearRegression()\n",
    "model.fit(X_train, y_train)\n",
    "y_pred = model.predict(X_test)\n",
    "df.loc[X_test.index, \"y_pred\"] = y_pred"
   ]
  },
  {
   "cell_type": "markdown",
   "metadata": {},
   "source": [
    "# Export"
   ]
  },
  {
   "cell_type": "code",
   "execution_count": 6,
   "metadata": {},
   "outputs": [
    {
     "name": "stdout",
     "output_type": "stream",
     "text": [
      "env: MLFLOW_TRACKING_URI=https://mlflow-gcp-2-r5wfb53nxq-uc.a.run.app/\n",
      "env: MLFLOW_TRACKING_USERNAME=mlflow\n",
      "env: MLFLOW_TRACKING_PASSWORD=password123\n",
      "env: MLFLOW_EXPERIMENT_NAME=my_first_experiment\n",
      "env: GOOGLE_APPLICATION_CREDENTIALS=/Users/tsfelg/repos/mlflow-for-gcp/secrets/credentials.json\n"
     ]
    }
   ],
   "source": [
    "%env MLFLOW_TRACKING_URI=https://mlflow-gcp-2-r5wfb53nxq-uc.a.run.app/\n",
    "%env MLFLOW_TRACKING_USERNAME=mlflow\n",
    "%env MLFLOW_TRACKING_PASSWORD=password123\n",
    "%env MLFLOW_EXPERIMENT_NAME=my_first_experiment\n",
    "%env GOOGLE_APPLICATION_CREDENTIALS=/Users/tsfelg/repos/mlflow-for-gcp/secrets/credentials.json"
   ]
  },
  {
   "cell_type": "code",
   "execution_count": 7,
   "metadata": {},
   "outputs": [
    {
     "name": "stderr",
     "output_type": "stream",
     "text": [
      "/opt/homebrew/Caskroom/miniforge/base/envs/mlops_zoomcamp_project/lib/python3.9/site-packages/_distutils_hack/__init__.py:33: UserWarning: Setuptools is replacing distutils.\n",
      "  warnings.warn(\"Setuptools is replacing distutils.\")\n"
     ]
    },
    {
     "data": {
      "text/plain": [
       "ModelInfo(artifact_path='model', flavors={'python_function': {'model_path': 'model.pkl', 'loader_module': 'mlflow.sklearn', 'python_version': '3.9.13', 'env': 'conda.yaml'}, 'sklearn': {'pickled_model': 'model.pkl', 'sklearn_version': '1.1.2', 'serialization_format': 'cloudpickle', 'code': None}}, model_uri='runs:/52bf59cb151d46ac8827defb5ffa8363/model', model_uuid='ce7d8e9a5b3f4768971dd240f37f13dd', run_id='52bf59cb151d46ac8827defb5ffa8363', saved_input_example_info=None, signature_dict=None, utc_time_created='2022-08-31 11:21:34.662961', mlflow_version='1.28.0')"
      ]
     },
     "execution_count": 7,
     "metadata": {},
     "output_type": "execute_result"
    }
   ],
   "source": [
    "mlflow.set_experiment('retail_forecasting')\n",
    "mlflow.sklearn.log_model(model, artifact_path=\"model\")"
   ]
  },
  {
   "cell_type": "code",
   "execution_count": 8,
   "metadata": {},
   "outputs": [],
   "source": [
    "mlflow.end_run()"
   ]
  }
 ],
 "metadata": {
  "kernelspec": {
   "display_name": "Python 3.9.13 ('mlops_zoomcamp_project')",
   "language": "python",
   "name": "python3"
  },
  "language_info": {
   "codemirror_mode": {
    "name": "ipython",
    "version": 3
   },
   "file_extension": ".py",
   "mimetype": "text/x-python",
   "name": "python",
   "nbconvert_exporter": "python",
   "pygments_lexer": "ipython3",
   "version": "3.9.13"
  },
  "orig_nbformat": 4,
  "vscode": {
   "interpreter": {
    "hash": "1617c83d054cba1227a9ebeb801ece05f2f8df6392ce2dbf9ca3c72eef4bc1fa"
   }
  }
 },
 "nbformat": 4,
 "nbformat_minor": 2
}
