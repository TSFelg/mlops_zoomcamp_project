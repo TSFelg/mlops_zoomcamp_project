{
 "cells": [
  {
   "cell_type": "code",
   "execution_count": 6,
   "metadata": {},
   "outputs": [],
   "source": [
    "import pandas as pd\n",
    "import numpy as np\n",
    "from sklearn.linear_model import LinearRegression\n",
    "from lightgbm import LGBMRegressor\n",
    "from utils import *\n",
    "import mlflow\n",
    "pd.options.plotting.backend = \"plotly\""
   ]
  },
  {
   "cell_type": "code",
   "execution_count": 7,
   "metadata": {},
   "outputs": [
    {
     "name": "stdout",
     "output_type": "stream",
     "text": [
      "env: MLFLOW_TRACKING_URI=https://mlflow-gcp-2-r5wfb53nxq-uc.a.run.app/\n",
      "env: MLFLOW_TRACKING_USERNAME=mlflow\n",
      "env: MLFLOW_TRACKING_PASSWORD=password123\n",
      "env: MLFLOW_EXPERIMENT_NAME=my_first_experiment\n",
      "env: GOOGLE_APPLICATION_CREDENTIALS=/Users/tsfelg/repos/mlflow-for-gcp/secrets/credentials.json\n"
     ]
    }
   ],
   "source": [
    "%env MLFLOW_TRACKING_URI=https://mlflow-gcp-2-r5wfb53nxq-uc.a.run.app/\n",
    "%env MLFLOW_TRACKING_USERNAME=mlflow\n",
    "%env MLFLOW_TRACKING_PASSWORD=password123\n",
    "%env MLFLOW_EXPERIMENT_NAME=my_first_experiment\n",
    "%env GOOGLE_APPLICATION_CREDENTIALS=/Users/tsfelg/repos/mlflow-for-gcp/secrets/credentials.json"
   ]
  },
  {
   "cell_type": "markdown",
   "metadata": {},
   "source": [
    "# Data"
   ]
  },
  {
   "cell_type": "code",
   "execution_count": 9,
   "metadata": {},
   "outputs": [],
   "source": [
    "df_1 = pd.read_csv(\"/Users/tsfelg/repos/mlops_zoomcamp_project/data/2021_PT_Region_Mobility_Report.csv\")\n",
    "df_2 = pd.read_csv(\"/Users/tsfelg/repos/mlops_zoomcamp_project/data/2022_PT_Region_Mobility_Report.csv\")\n",
    "df = pd.concat([df_1,df_2])"
   ]
  },
  {
   "cell_type": "code",
   "execution_count": 10,
   "metadata": {},
   "outputs": [],
   "source": [
    "df = clean_data(df)\n",
    "df = feature_extraction(df)\n",
    "df = df.dropna()"
   ]
  },
  {
   "cell_type": "code",
   "execution_count": 11,
   "metadata": {},
   "outputs": [],
   "source": [
    "df_train = df.loc[\"2021\":\"2022-01\"]\n",
    "df_test = df.loc[\"2022-2\":]\n",
    "\n",
    "X_train = df_train.drop(columns=[\"y\"])\n",
    "X_test = df_test.drop(columns=[\"y\"])\n",
    "\n",
    "y_train = df_train.y\n",
    "y_test = df_test.y"
   ]
  },
  {
   "cell_type": "markdown",
   "metadata": {},
   "source": [
    "# Training"
   ]
  },
  {
   "cell_type": "code",
   "execution_count": 12,
   "metadata": {},
   "outputs": [],
   "source": [
    "model_ctx = \"LinearRegression\"\n",
    "#model_ctx = \"LGBMRegressor\""
   ]
  },
  {
   "cell_type": "markdown",
   "metadata": {},
   "source": [
    "# No Retrain"
   ]
  },
  {
   "cell_type": "code",
   "execution_count": 13,
   "metadata": {},
   "outputs": [],
   "source": [
    "mlflow.set_experiment('retail_forecasting_dev')\n",
    "\n",
    "with mlflow.start_run():\n",
    "    if model_ctx == \"LinearRegression\":\n",
    "        model = LinearRegression()\n",
    "    elif model_ctx == \"LGBMRegressor\":\n",
    "        model = LGBMRegressor()\n",
    "    model.fit(X_train, y_train)\n",
    "    y_pred = model.predict(X_test)\n",
    "    df.loc[X_test.index, \"y_pred\"] = y_pred\n",
    "\n",
    "    mae = np.abs(y_pred - df_test.y).mean()\n",
    "\n",
    "    mlflow.log_metric(\"test_mae\", mae)\n",
    "\n",
    "    params = {\"Retrain\": False}\n",
    "    mlflow.log_params(params)\n",
    "\n",
    "    mlflow.sklearn.log_model(model, artifact_path=\"model\")\n",
    "\n",
    "mlflow.end_run()"
   ]
  },
  {
   "cell_type": "markdown",
   "metadata": {},
   "source": [
    "# Monthly Retrain"
   ]
  },
  {
   "cell_type": "code",
   "execution_count": null,
   "metadata": {},
   "outputs": [],
   "source": [
    "df_test_full = df.loc[\"2022-2\":]\n",
    "\n",
    "for month in df_test_full.index.month.unique():\n",
    "    df_train = df.loc[\"2021\":\"2022-\"+str(month-1)]\n",
    "    df_test = df_test_full[\"2022-\"+str(month):\"2022-\"+str(month)]\n",
    "    X_train = df_train.drop(columns=[\"y\",\"y_pred\",\"y_pred_retrain\"], errors=\"ignore\")\n",
    "    X_test = df_test.drop(columns=[\"y\",\"y_pred\",\"y_pred_retrain\"], errors=\"ignore\")\n",
    "\n",
    "    y_train = df_train.y\n",
    "    y_test = df_test.y\n",
    "\n",
    "    mlflow.set_experiment('retail_forecasting_dev')\n",
    "\n",
    "    if model_ctx == \"LinearRegression\":\n",
    "        model = LinearRegression()\n",
    "    elif model_ctx == \"LGBMRegressor\":\n",
    "        model = LGBMRegressor()\n",
    "    model.fit(X_train, y_train)\n",
    "    y_pred = model.predict(X_test)\n",
    "    df.loc[X_test.index, \"y_pred_retrain\"] = y_pred\n",
    "\n",
    "with mlflow.start_run():\n",
    "    params = {\"Retrain\": True, \"Model\":model_ctx}\n",
    "    mlflow.log_params(params)\n",
    "    \n",
    "    mae = np.abs(df_test.y - df.loc[X_test.index, \"y_pred_retrain\"]).mean()\n",
    "    mlflow.log_metric(\"test_mae\", mae)\n",
    "    mlflow.sklearn.log_model(model, artifact_path=\"model\")\n",
    "mlflow.end_run()"
   ]
  },
  {
   "cell_type": "markdown",
   "metadata": {},
   "source": [
    "# Evaluation"
   ]
  },
  {
   "cell_type": "code",
   "execution_count": null,
   "metadata": {},
   "outputs": [],
   "source": [
    "print(np.abs(df.y - df.y_pred).mean())"
   ]
  },
  {
   "cell_type": "code",
   "execution_count": null,
   "metadata": {},
   "outputs": [],
   "source": [
    "print(np.abs(df.y - df.y_pred_retrain).mean())"
   ]
  },
  {
   "cell_type": "code",
   "execution_count": null,
   "metadata": {},
   "outputs": [],
   "source": [
    "df[\"baseline\"] = df.y.shift(7)\n",
    "print(np.abs(df.y - df.baseline).mean())"
   ]
  },
  {
   "cell_type": "code",
   "execution_count": null,
   "metadata": {},
   "outputs": [],
   "source": [
    "df.plot()"
   ]
  },
  {
   "cell_type": "markdown",
   "metadata": {},
   "source": [
    "# Model Registry"
   ]
  },
  {
   "cell_type": "code",
   "execution_count": 3,
   "metadata": {},
   "outputs": [],
   "source": [
    "from mlflow.tracking import MlflowClient\n",
    "\n",
    "client = MlflowClient()\n",
    "runs = client.search_runs(experiment_ids='5')\n",
    "run = runs[0]\n",
    "RUN_ID = run.info.run_id"
   ]
  },
  {
   "cell_type": "code",
   "execution_count": 4,
   "metadata": {},
   "outputs": [],
   "source": [
    "logged_model = f\"gs://mlflow-mlops/5/{RUN_ID}/artifacts/model\"\n",
    "model = mlflow.pyfunc.load_model(logged_model)"
   ]
  },
  {
   "cell_type": "code",
   "execution_count": 5,
   "metadata": {},
   "outputs": [
    {
     "data": {
      "text/plain": [
       "mlflow.pyfunc.loaded_model:\n",
       "  artifact_path: model\n",
       "  flavor: mlflow.sklearn\n",
       "  run_id: e97ea62ced9f4da293ccb7f2156a0980"
      ]
     },
     "execution_count": 5,
     "metadata": {},
     "output_type": "execute_result"
    }
   ],
   "source": [
    "model"
   ]
  }
 ],
 "metadata": {
  "kernelspec": {
   "display_name": "Python 3.9.13 ('mlops_zoomcamp_project')",
   "language": "python",
   "name": "python3"
  },
  "language_info": {
   "codemirror_mode": {
    "name": "ipython",
    "version": 3
   },
   "file_extension": ".py",
   "mimetype": "text/x-python",
   "name": "python",
   "nbconvert_exporter": "python",
   "pygments_lexer": "ipython3",
   "version": "3.9.13"
  },
  "orig_nbformat": 4,
  "vscode": {
   "interpreter": {
    "hash": "1617c83d054cba1227a9ebeb801ece05f2f8df6392ce2dbf9ca3c72eef4bc1fa"
   }
  }
 },
 "nbformat": 4,
 "nbformat_minor": 2
}
